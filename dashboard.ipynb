{
 "cells": [
  {
   "cell_type": "markdown",
   "metadata": {},
   "source": [
    "# San Francisco Rental Prices Dashboard\n",
    "\n",
    "In this notebook, you will compile the visualizations from the previous analysis into functions that can be used for a Panel dashboard."
   ]
  },
  {
   "cell_type": "code",
   "execution_count": 4,
   "metadata": {},
   "outputs": [],
   "source": [
    "# imports\n",
    "import panel as pn\n",
    "pn.extension('plotly')\n",
    "import plotly.express as px\n",
    "import pandas as pd\n",
    "import hvplot.pandas\n",
    "import matplotlib.pyplot as plt\n",
    "import os\n",
    "from pathlib import Path\n",
    "from dotenv import load_dotenv"
   ]
  },
  {
   "cell_type": "code",
   "execution_count": 5,
   "metadata": {},
   "outputs": [
    {
     "name": "stderr",
     "output_type": "stream",
     "text": [
      "Python-dotenv could not parse statement starting at line 4\n",
      "Python-dotenv could not parse statement starting at line 5\n",
      "Python-dotenv could not parse statement starting at line 11\n"
     ]
    }
   ],
   "source": [
    "# Read the Mapbox API key\n",
    "load_dotenv()\n",
    "map_box_api = os.getenv(\"mapbox\")\n",
    "px.set_mapbox_access_token(map_box_api)"
   ]
  },
  {
   "cell_type": "markdown",
   "metadata": {},
   "source": [
    "# Import Data"
   ]
  },
  {
   "cell_type": "code",
   "execution_count": 6,
   "metadata": {},
   "outputs": [],
   "source": [
    "# Import the necessary CSVs to Pandas DataFrames\n",
    "sfo_data_path = Path(\"./sfo_neighborhoods_census_data.csv\")\n",
    "sfo_data = pd.read_csv(sfo_data_path, index_col=\"year\")\n",
    "\n",
    "locations_path = Path(\"./neighborhoods_coordinates.csv\")\n",
    "df_neighborhood_locations = pd.read_csv(locations_path)\n",
    "\n",
    "housing_units= sfo_data['housing_units'].groupby('year').mean()\n",
    "san_fran_df = sfo_data.groupby(['year', 'neighborhood']).mean()\n"
   ]
  },
  {
   "cell_type": "markdown",
   "metadata": {},
   "source": [
    "- - -"
   ]
  },
  {
   "cell_type": "markdown",
   "metadata": {},
   "source": [
    "## Panel Visualizations\n",
    "\n",
    "In this section, you will copy the code for each plot type from your analysis notebook and place it into separate functions that Panel can use to create panes for the dashboard. \n",
    "\n",
    "These functions will convert the plot object to a Panel pane.\n",
    "\n",
    "Be sure to include any DataFrame transformation/manipulation code required along with the plotting code.\n",
    "\n",
    "Return a Panel pane object from each function that can be used to build the dashboard.\n",
    "\n",
    "Note: Remove any `.show()` lines from the code. We want to return the plots instead of showing them. The Panel dashboard will then display the plots."
   ]
  },
  {
   "cell_type": "code",
   "execution_count": 7,
   "metadata": {},
   "outputs": [],
   "source": [
    "# Define Panel Visualization Functions\n",
    "\n",
    "def housing_units_per_year():\n",
    "\n",
    "    figure_plot= plt.figure()\n",
    "    housing_units= sfo_data['housing_units'].groupby('year').mean()\n",
    "    min_units = min(housing_units)\n",
    "    max_units = max(housing_units)\n",
    "    std_units = housing_units.std()\n",
    "    housing_plot = housing_units.plot.bar()\n",
    "    housing_plot.set_xlabel(\"year\")\n",
    "    housing_plot.set_ylabel(\"Housing Units\")\n",
    "    housing_plot.set_title(\"Housing Units in San Fran 2010 to 2016\")\n",
    "    housing_plot.set_ylimit(min_units - std_units),(max_units + std_units)\n",
    "    plt.close(figure_plot)\n",
    "    return pn.pane.Matplotlib(figure_plot)"
   ]
  },
  {
   "cell_type": "code",
   "execution_count": 8,
   "metadata": {},
   "outputs": [],
   "source": [
    "def average_sales_price():\n",
    "  \n",
    "    rent=sfo_data[['sale_price_sqr_foot', 'gross_rent']].groupby('year').mean()\n",
    "\n",
    "    plt.plot(rent.index, rent['sale_price_sqr_foot'])\n",
    "    plt.xlim(rent.index[0],rent.index[-1])\n",
    "    plt.suptitle('Average Sale Price per Square Foot in San Francisco', weight='bold')\n",
    "    plt.xlabel('Year')\n",
    "    plt.ylabel('Avg. Sale Price')\n",
    "    plt.show()\n",
    "    plt.close()\n",
    "    return pn.pane.hvplot.bar(rent.index, rent['sale_price_sqr_foot'])"
   ]
  },
  {
   "cell_type": "code",
   "execution_count": 9,
   "metadata": {},
   "outputs": [],
   "source": [
    "def average_price_by_neighborhood():\n",
    "   \n",
    "    plt.plot(rent.index, rent['gross_rent'])\n",
    "    plt.xlim(rent.index[0],rent.index[-1])\n",
    "    plt.suptitle('Average Gross Rent in San Francisco', weight='bold')\n",
    "    plt.xlabel('Year')\n",
    "    plt.ylabel('Gross Rent')\n",
    "    plt.show()\n",
    "    plt.close()\n",
    "    return pn.pane.hvplot.bar(rent.index, rent['gross_rent'])"
   ]
  },
  {
   "cell_type": "code",
   "execution_count": 10,
   "metadata": {},
   "outputs": [],
   "source": [
    "def top_most_expensive_neighborhoods():\n",
    " \n",
    "    san_fran_df = sfo_data.groupby(['year', 'neighborhood']).mean()\n",
    "    \n",
    "    most_expensive_neighborhoods = san_fran_df['sale_price_sqr_foot'].hvplot(xlabel='year', ylabel='average sale per square foot', \n",
    "    label=' ' ,groupby='neighborhood', height=300,width=450)\n",
    "    return pn.pane.hvplot.bar(most_expensive_neighborhoods)"
   ]
  },
  {
   "cell_type": "code",
   "execution_count": 11,
   "metadata": {},
   "outputs": [],
   "source": [
    "def price_per_square_root():\n",
    " \n",
    "    top_10_most_expensive = sfo_data.groupby('neighborhood').mean().sort_values(ascending=False, by='sale_price_sqr_foot')\n",
    "\n",
    "    price_per_square = top_10_most_expensive['sale_price_sqr_foot'].head(10).hvplot.bar(ylabel='average sale price per square foot',\n",
    "    xlabel='neighborhood',label='top 10 most expensive neighborhoods',rot=35,height=375,width=625,)\n",
    "    return pn.pane.hvplot.bar(price_per_square)"
   ]
  },
  {
   "cell_type": "code",
   "execution_count": 12,
   "metadata": {},
   "outputs": [],
   "source": [
    "def parallel_categories():\n",
    "    top_10_most_expensive = top_10_most_expensive.head(10).reset_index()\n",
    "    top_10_most_expensive.head(10)\n",
    "\n",
    "    comparative_maps = san_fran_df.head(10).hvplot.bar(x=\"year\", y=[\"gross_rent\",\"sale_price_sqr_foot\"], xlabel= \"Gross Rent Expense and Sale Price Per Sqr Foot\", ylabel= \"Dollar Amount\", title=\"Top 10 Most Expensive Neighborhoods in San Francisco\", groupby='neighborhood', height=400,rot=46)\n",
    "    return pn.pane.hvplot.bar(comparative_maps)"
   ]
  },
  {
   "cell_type": "code",
   "execution_count": 13,
   "metadata": {},
   "outputs": [],
   "source": [
    "def neighborhood_map():\n",
    "    all_neighborhoods = sfo_data.groupby(by=\"neighborhood\").mean()\n",
    "    all_neighborhoods.reset_index(inplace=True)\n",
    "    all_neighborhoods.rename(columns={\"neighborhood\": \"Neighborhood\"}, inplace=True)\n",
    "    neighborhoods = pd.merge(df_neighborhood_locations, all_neighborhoods, on=\"Neighborhood\")\n",
    "    neighborhoods.head()\n",
    "\n",
    "    px.set_mapbox_access_token('pk.eyJ1Ijoic2tvaG5sZTE0IiwiYSI6ImNrdXJwenVvNzU3cHkycG1hY2RzOGZydTIifQ.CWPJisDLmmjfABpv9Y2Kog')\n",
    "\n",
    "\n",
    "    neighborhood_map_scatter = px.scatter_mapbox(neighborhoods,lat=\"Lat\",lon=\"Lon\",size=\"sale_price_sqr_foot\",\n",
    "    color=\"gross_rent\", title=\"Average Sale Price per Square Foot and Gross Rent in San Francisco\")\n",
    "    return pn.pane.scatter_mapbox(neighborhood_map_scatter)"
   ]
  },
  {
   "cell_type": "code",
   "execution_count": null,
   "metadata": {},
   "outputs": [],
   "source": []
  },
  {
   "cell_type": "markdown",
   "metadata": {},
   "source": [
    "## Panel Dashboard\n",
    "\n",
    "In this section, you will combine all of the plots into a single dashboard view using Panel. Be creative with your dashboard design!"
   ]
  },
  {
   "cell_type": "markdown",
   "metadata": {},
   "source": [
    "## Serve the Panel Dashboard"
   ]
  },
  {
   "cell_type": "code",
   "execution_count": null,
   "metadata": {},
   "outputs": [],
   "source": [
    "# Create a Title for the Dashboard\n",
    "# imports\n",
    "import panel as pn\n",
    "pn.extension('plotly')\n",
    "import plotly.express as px\n",
    "import pandas as pd\n",
    "import hvplot.pandas\n",
    "import matplotlib.pyplot as plt\n",
    "import os\n",
    "from pathlib import Path\n",
    "from dotenv import load_dotenv\n",
    "\n",
    "plot_column = pn.Column(\n",
    "    housing_units_per_year(), \n",
    "    average_gross_rent(),\n",
    "    average_sales_price(),\n",
    "    average_price_by_neighborhood(),\n",
    "    top_most_expensive_neighborhoods(),\n",
    "    price_per_square_foot())\n",
    "        \n",
    "parallel_column = pn.Column(parallel_categories())\n",
    "\n",
    "map_column = pn.Column(neighborhood_map())\n",
    "\n",
    "# Create tabs\n",
    "panel = pn.Tabs(\n",
    "    (\"Plot\", plot_column), \n",
    "    (\"Parallel\", parallel_column), \n",
    "    (\"Map\", map_column))"
   ]
  },
  {
   "cell_type": "code",
   "execution_count": null,
   "metadata": {},
   "outputs": [],
   "source": [
    "# Serve the# dashboard\n",
    "panel.servable()"
   ]
  },
  {
   "cell_type": "markdown",
   "metadata": {},
   "source": [
    "# Debugging\n",
    "\n",
    "Note: Some of the Plotly express plots may not render in the notebook through the panel functions.\n",
    "\n",
    "However, you can test each plot by uncommenting the following code"
   ]
  },
  {
   "cell_type": "code",
   "execution_count": null,
   "metadata": {},
   "outputs": [],
   "source": [
    "# housing_units_per_year()"
   ]
  },
  {
   "cell_type": "code",
   "execution_count": null,
   "metadata": {},
   "outputs": [],
   "source": [
    "# average_gross_rent()"
   ]
  },
  {
   "cell_type": "code",
   "execution_count": null,
   "metadata": {},
   "outputs": [],
   "source": [
    "# average_sales_price()"
   ]
  },
  {
   "cell_type": "code",
   "execution_count": null,
   "metadata": {},
   "outputs": [],
   "source": [
    "# average_price_by_neighborhood()"
   ]
  },
  {
   "cell_type": "code",
   "execution_count": null,
   "metadata": {},
   "outputs": [],
   "source": [
    "# top_most_expensive_neighborhoods()"
   ]
  },
  {
   "cell_type": "code",
   "execution_count": null,
   "metadata": {},
   "outputs": [],
   "source": [
    "# most_expensive_neighborhoods_rent_sales()"
   ]
  },
  {
   "cell_type": "code",
   "execution_count": null,
   "metadata": {},
   "outputs": [],
   "source": [
    "# neighborhood_map().show()"
   ]
  },
  {
   "cell_type": "code",
   "execution_count": null,
   "metadata": {},
   "outputs": [],
   "source": [
    "# parallel_categories()"
   ]
  },
  {
   "cell_type": "code",
   "execution_count": null,
   "metadata": {},
   "outputs": [],
   "source": [
    "# parallel_coordinates()"
   ]
  },
  {
   "cell_type": "code",
   "execution_count": null,
   "metadata": {},
   "outputs": [],
   "source": [
    "# sunburst()"
   ]
  },
  {
   "cell_type": "code",
   "execution_count": null,
   "metadata": {},
   "outputs": [],
   "source": []
  }
 ],
 "metadata": {
  "file_extension": ".py",
  "kernelspec": {
   "display_name": "Python [conda env:pyvizenv] *",
   "language": "python",
   "name": "conda-env-pyvizenv-py"
  },
  "language_info": {
   "codemirror_mode": {
    "name": "ipython",
    "version": 3
   },
   "file_extension": ".py",
   "mimetype": "text/x-python",
   "name": "python",
   "nbconvert_exporter": "python",
   "pygments_lexer": "ipython3",
   "version": "3.7.10"
  },
  "mimetype": "text/x-python",
  "name": "python",
  "npconvert_exporter": "python",
  "pygments_lexer": "ipython3",
  "version": 3
 },
 "nbformat": 4,
 "nbformat_minor": 4
}
